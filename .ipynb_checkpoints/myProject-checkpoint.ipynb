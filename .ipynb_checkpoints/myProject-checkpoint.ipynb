{
 "cells": [
  {
   "cell_type": "markdown",
   "id": "e1c22c5d",
   "metadata": {},
   "source": [
    "\n",
    "# Step 1 - Imporing the Dataset\n"
   ]
  },
  {
   "cell_type": "code",
   "execution_count": 2,
   "id": "9770ec16",
   "metadata": {
    "scrolled": true
   },
   "outputs": [
    {
     "data": {
      "image/png": "[encoded data removed]",
      "text/plain": [
       "<Figure size 432x288 with 1 Axes>"
      ]
     },
     "metadata": {
      "needs_background": "light"
     },
     "output_type": "display_data"
    },
    {
     "data": {
      "image/png": "[encoded data removed]",
      "text/plain": [
       "<Figure size 432x288 with 1 Axes>"
      ]
     },
     "metadata": {
      "needs_background": "light"
     },
     "output_type": "display_data"
    }
   ],
   "source": [
    "import numpy as np\n",
    "import matplotlib.pyplot as plt\n",
    "import random\n",
    "\n",
    "# A function to plot images\n",
    "def show_image(img):\n",
    "    image = img.reshape((28, 28))\n",
    "    plt.imshow(image, 'gray')\n",
    "\n",
    "def read_dataset(path):\n",
    "    # Reading The Train Set\n",
    "    train_images_file = open(path + 'train-images.idx3-ubyte', 'rb')\n",
    "    train_images_file.seek(4)\n",
    "    num_of_train_images = int.from_bytes(train_images_file.read(4), 'big')\n",
    "    train_images_file.seek(16)\n",
    "\n",
    "    train_labels_file = open(path + 'train-labels.idx1-ubyte', 'rb')\n",
    "    train_labels_file.seek(8)\n",
    "\n",
    "    train_set = []\n",
    "    for n in range(num_of_train_images):\n",
    "        image = np.zeros((784, 1))\n",
    "        for i in range(784):\n",
    "            image[i, 0] = int.from_bytes(train_images_file.read(1), 'big') / 256\n",
    "        \n",
    "        label_value = int.from_bytes(train_labels_file.read(1), 'big')\n",
    "        label = np.zeros((10, 1))\n",
    "        label[label_value, 0] = 1\n",
    "        \n",
    "        train_set.append((image, label))\n",
    "\n",
    "\n",
    "    # Reading The Test Set\n",
    "    test_images_file = open(path + 't10k-images.idx3-ubyte', 'rb')\n",
    "    test_images_file.seek(4)\n",
    "\n",
    "    test_labels_file = open(path + 't10k-labels.idx1-ubyte', 'rb')\n",
    "    test_labels_file.seek(8)\n",
    "\n",
    "    num_of_test_images = int.from_bytes(test_images_file.read(4), 'big')\n",
    "    test_images_file.seek(16)\n",
    "\n",
    "    test_set = []\n",
    "    for n in range(num_of_test_images):\n",
    "        image = np.zeros((784, 1))\n",
    "        for i in range(784):\n",
    "            image[i] = int.from_bytes(test_images_file.read(1), 'big') / 256\n",
    "        \n",
    "        label_value = int.from_bytes(test_labels_file.read(1), 'big')\n",
    "        label = np.zeros((10, 1))\n",
    "        label[label_value, 0] = 1\n",
    "        \n",
    "        test_set.append((image, label))\n",
    "    return train_set, test_set\n",
    "\n",
    "train_set, test_set = read_dataset(\"Dataset/\")\n",
    "    \n",
    "\n",
    "# Plotting an image\n",
    "show_image(train_set[0][0])\n",
    "plt.show()\n",
    "show_image(test_set[0][0])\n",
    "plt.show()"
   ]
  },
  {
   "cell_type": "markdown",
   "id": "97b0fd76",
   "metadata": {},
   "source": [
    "# Step 2 - Create a neural network\n",
    "create a neural network with random weights and zero biases by using feedForward algorithm wthout training"
   ]
  },
  {
   "cell_type": "code",
   "execution_count": 15,
   "id": "e447f976",
   "metadata": {},
   "outputs": [],
   "source": [
    "#activation functions\n",
    "def sigmoid(x):\n",
    "    return 1/(1 + np.exp(-x))\n",
    "\n",
    "def sigmoid_driv(x):\n",
    "    return sigmoid(x)*(1-sigmoid(x))\n",
    "\n",
    "def tanh(x):\n",
    "    return np.tanh(x)\n",
    "\n",
    "def tanh_deriv(x):\n",
    "    return 1.0 - np.tanh(x)**2\n",
    "\n",
    "def activation(x, name):\n",
    "    if name == \"sigmoid\":\n",
    "        return sigmoid(x)\n",
    "    elif name == \"tanh\":\n",
    "        return tanh(x)\n",
    "\n",
    "def activation_driv(x, name):\n",
    "    if name == \"sigmoid\": \n",
    "        return sigmoid_driv(x)\n",
    "    if name == \"tanh\": \n",
    "        return tanh_deriv(x)"
   ]
  },
  {
   "cell_type": "code",
   "execution_count": 7,
   "id": "01856627",
   "metadata": {},
   "outputs": [
    {
     "name": "stdout",
     "output_type": "stream",
     "text": [
      "**********\n",
      "epoch :  20\n",
      "minibatch size:  10\n",
      "**********\n",
      "right predicted: 240 , of:  2000\n",
      "Accuracy: % 12.0\n",
      "**********\n",
      "Wall time: 313 ms\n"
     ]
    }
   ],
   "source": [
    "%%time\n",
    "layers_size = [784, 16, 16, 10]\n",
    "\n",
    "weights = []\n",
    "biases = []\n",
    "# make weight matrix randomly and zero biases\n",
    "for i in range(0, len(layers_size) - 1):\n",
    "    weights.append(np.random.normal(size=(layers_size[i + 1], layers_size[i])))\n",
    "    biases.append(np.zeros((layers_size[i + 1], 1)))\n",
    "\n",
    "our_train_set = []\n",
    "our_train_set = train_set[0:100]\n",
    "\n",
    "#*************************** training ******************************\n",
    "all_costs = []\n",
    "axis= []\n",
    "epoch = 20\n",
    "right_predicted = 0\n",
    "for ep in range(0, epoch):\n",
    "    random.shuffle(our_train_set)\n",
    "    mini_batch_size = 10\n",
    "\n",
    "    batch_size = int(len(our_train_set)/mini_batch_size)\n",
    "    for b in range(0, batch_size):  \n",
    "        average_poach_cost = 0\n",
    "\n",
    "        dcost_dweights = [0, 0, 0]\n",
    "        dcost_dbiases = [0, 0, 0]\n",
    "        for n in range(b*mini_batch_size, b*mini_batch_size + mini_batch_size):\n",
    "            a = []\n",
    "            y = our_train_set[n][1]\n",
    "            z = []\n",
    "\n",
    "            # feed forward\n",
    "            a.append(np.array(our_train_set[n][0]))\n",
    "            for i in range(0, len(layers_size) - 1):\n",
    "                # print(weights[i])\n",
    "                # print(a[i])\n",
    "                # print(biases[i])\n",
    "                neurons = sigmoid(np.matmul(weights[i], a[i]) + biases[i])\n",
    "                z.append(np.matmul(weights[i], a[i]) + biases[i])\n",
    "                a.append(np.array(neurons))\n",
    "\n",
    "\n",
    "            \n",
    "            result = np.where(a[-1] == np.amax(a[-1]))\n",
    "            label = np.where(our_train_set[n][1] == np.amax(our_train_set[n][1]))\n",
    "            if label[0] == result[0]:\n",
    "                right_predicted = right_predicted + 1\n",
    "\n",
    "            \n",
    "    all_costs.append(average_poach_cost/len(our_train_set))\n",
    "    axis.append(len(all_costs))\n",
    "\n",
    "\n",
    "            \n",
    "print(\"**********\")\n",
    "print(\"epoch : \", epoch)\n",
    "print(\"minibatch size: \", mini_batch_size)\n",
    "print(\"**********\")\n",
    "print(\"right predicted:\",right_predicted, \", of: \", (len(our_train_set) * epoch))\n",
    "print(\"Accuracy: %\", (right_predicted/(len(our_train_set) * epoch))*100)\n",
    "print(\"**********\")\n",
    "\n"
   ]
  },
  {
   "cell_type": "markdown",
   "id": "e935d7c2",
   "metadata": {},
   "source": [
    "# step 3 - training network by back propagation algorithm\n",
    "In this step we tried to train our network using backpropagation algorithm. We did it by a simple implementation using loops and iterating on elements."
   ]
  },
  {
   "cell_type": "code",
   "execution_count": 251,
   "id": "a4de72b4",
   "metadata": {},
   "outputs": [
    {
     "name": "stdout",
     "output_type": "stream",
     "text": [
      "**********\n",
      "epoch :  20\n",
      "minibatch size:  10\n",
      "**********\n",
      "right predicted: 66 , of:  400\n",
      "Accuracy: % 16.5\n",
      "**********\n"
     ]
    },
    {
     "data": {
      "image/png": "[encoded data removed]",
      "text/plain": [
       "<Figure size 432x288 with 1 Axes>"
      ]
     },
     "metadata": {
      "needs_background": "light"
     },
     "output_type": "display_data"
    }
   ],
   "source": [
    "%%time\n",
    "layers_size = [784, 16, 16, 10]\n",
    "# make weight matrix randomly and zero biases\n",
    "weights = []\n",
    "biases = []\n",
    "\n",
    "for i in range(0, len(layers_size) - 1):\n",
    "    # matrix = []\n",
    "    # for j in range(layers_size[i + 1]):\n",
    "    #     row = []\n",
    "    #     for k in range(layers_size[i]):\n",
    "    #         row.append(random.uniform(-1, 1))\n",
    "    #     matrix.append(row)\n",
    "    weights.append(np.random.normal(size=(layers_size[i + 1], layers_size[i])))\n",
    "    biases.append(np.zeros((layers_size[i + 1], 1)))\n",
    "\n",
    "our_train_set = []\n",
    "# for i in range(0, 100):\n",
    "our_train_set = train_set[:20]\n",
    "\n",
    "all_costs = []\n",
    "axis= []\n",
    "epoch = 20\n",
    "right_predicted = 0\n",
    "for ep in range(0, epoch):\n",
    "    average_poach_cost = 0\n",
    "    random.shuffle(our_train_set)\n",
    "    mini_batch_size = 10\n",
    "    sum_dcost_dweights = [0,0,0]\n",
    "    sum_dcost_dbiases = [0,0,0]    \n",
    "    \n",
    "    for b in range(0, batch_size):   \n",
    "        plus_n = b*mini_batch_size + mini_batch_size\n",
    "        if plus_n > len(our_train_set):\n",
    "            plus_n = len(our_train_set)\n",
    "        for n in range(b*mini_batch_size, plus_n):\n",
    "            a = []\n",
    "            y = our_train_set[n][1]\n",
    "            z = []\n",
    "            dcost_dweights = []\n",
    "            dcost_dbiases = []\n",
    "            # feed forward\n",
    "            a.append(np.array(our_train_set[n][0]))\n",
    "            for i in range(0, len(layers_size) - 1):\n",
    "                # print(weights[i])\n",
    "                # print(a[i])\n",
    "                # print(biases[i])\n",
    "                neurons = sigmoid(np.matmul(weights[i], a[i]) + biases[i])\n",
    "                z.append(np.matmul(weights[i], a[i]) + biases[i])\n",
    "                a.append(np.array(neurons))\n",
    "\n",
    "            # backpropagation\n",
    "            da = []\n",
    "            for l in range(len(layers_size) - 1, 0, -1):\n",
    "                dw = []\n",
    "                db = []\n",
    "                da_temp = []\n",
    "                for i in range(0, len(a[l])):\n",
    "                    row_w = []\n",
    "                    for j in range(0, len(a[l - 1])):\n",
    "                        if l == len(layers_size) - 1:\n",
    "                            cost = 2*(a[l][i]-y[i])\n",
    "                        else:\n",
    "                            cost = da[i]\n",
    "                        temp_w = cost*sigmoid(z[l-1][i])*(1-sigmoid(z[l-1][i]))*a[l-1][j]\n",
    "                        row_w.append(temp_w[0])\n",
    "                    temp_b = cost*sigmoid(z[l-1][i])*(1-sigmoid(z[l-1][i]))\n",
    "                    db.append(np.array(temp_b[0]))\n",
    "                    dw.append(np.array(row_w))\n",
    "                da_temp = []\n",
    "                dcost_dweights.append(np.array(dw))\n",
    "                dcost_dbiases.append(np.array(db))\n",
    "\n",
    "                if l > 1:\n",
    "                    for it in range(0, len(a[l - 1])):\n",
    "                        temp = 0\n",
    "                        for i in range(0, len(a[l])):\n",
    "                            if l == len(layers_size) - 1:\n",
    "                                a_1 = 2*(a[l][i]-y[i])\n",
    "                            else:\n",
    "                                # print(da[i])\n",
    "                                a_1 = da[i]\n",
    "                            temp += a_1*sigmoid(z[l-1][i])*(1-sigmoid(z[l-1][i]))*weights[l-1][i][it] \n",
    "                        da_temp.append(temp[0])\n",
    "                    da = []\n",
    "                    da = da_temp\n",
    "            # print(\"sum_dcost_dweights: \",sum_dcost_dweights)\n",
    "            sum_dcost_dweights[0] += dcost_dweights[2]\n",
    "            sum_dcost_dweights[1] += dcost_dweights[1]\n",
    "            sum_dcost_dweights[2] += dcost_dweights[0]\n",
    "\n",
    "            sum_dcost_dbiases[0] += dcost_dbiases[2]\n",
    "            sum_dcost_dbiases[1] += dcost_dbiases[1]\n",
    "            sum_dcost_dbiases[2] += dcost_dbiases[0]\n",
    "\n",
    "            result = np.where(a[len(layers_size) - 1] == np.amax(a[len(layers_size) - 1]))\n",
    "            label = np.where(our_train_set[n][1] == np.amax(our_train_set[n][1]))\n",
    "            if label[0] == result[0]:\n",
    "                right_predicted = right_predicted + 1\n",
    "\n",
    "            average_poach_cost = average_poach_cost + sum(np.power(a[-1] - our_train_set[n][1], 2))\n",
    "\n",
    "        for i in range(0, len(layers_size) - 1):\n",
    "            weights[i] = weights[i] - sum_dcost_dweights[i] / mini_batch_size\n",
    "            biases[i] = biases[i] - (sum_dcost_dbiases[i] / mini_batch_size).reshape(len(sum_dcost_dbiases[i]),1)\n",
    "            \n",
    "    all_costs.append(average_poach_cost/len(our_train_set))\n",
    "    axis.append(len(all_costs))\n",
    "\n",
    "\n",
    "print(\"**********\")\n",
    "print(\"epoch : \", epoch)\n",
    "print(\"minibatch size: \", mini_batch_size)\n",
    "print(\"**********\")\n",
    "print(\"right predicted:\",right_predicted, \", of: \", (len(our_train_set) * epoch))\n",
    "print(\"Accuracy: %\", (right_predicted/(len(our_train_set) * epoch))*100)\n",
    "print(\"**********\")\n",
    "\n",
    "\n",
    "plt.plot(axis, all_costs)\n",
    "plt.show()\n",
    "\n"
   ]
  },
  {
   "cell_type": "markdown",
   "id": "a17fd816",
   "metadata": {},
   "source": [
    "# Step 4 - Vectorization\n",
    "In this step we have vectorized the algorithm in order to increase the speed, by decreasing calculating time\n",
    "We used numpy library and applied functions on matrices instead of using loops.\n",
    "also we have updated some part of code and made it more clear and efficient"
   ]
  },
  {
   "cell_type": "code",
   "execution_count": 35,
   "id": "df5b37dd",
   "metadata": {},
   "outputs": [
    {
     "name": "stdout",
     "output_type": "stream",
     "text": [
      "**********\n",
      "epoch :  5\n",
      "minibatch size:  50\n",
      "**********\n",
      "right predicted: 241108 , of:  300000\n",
      "Accuracy: % 80.36933333333334\n",
      "**********\n"
     ]
    },
    {
     "data": {
      "image/png": "[encoded data removed]",
      "text/plain": [
       "<Figure size 432x288 with 1 Axes>"
      ]
     },
     "metadata": {
      "needs_background": "light"
     },
     "output_type": "display_data"
    },
    {
     "name": "stdout",
     "output_type": "stream",
     "text": [
      "Wall time: 1min 40s\n"
     ]
    }
   ],
   "source": [
    "%%time\n",
    "layers_size = [784, 16, 16, 10]\n",
    "\n",
    "weights = []\n",
    "biases = []\n",
    "activation_function_name = \"sigmoid\"\n",
    "# make weight matrix randomly and zero biases\n",
    "for i in range(0, len(layers_size) - 1):\n",
    "    weights.append(np.random.normal(size=(layers_size[i + 1], layers_size[i])))\n",
    "    biases.append(np.zeros((layers_size[i + 1], 1)))\n",
    "\n",
    "our_train_set = []\n",
    "our_train_set = train_set\n",
    "\n",
    "#*************************** training ******************************\n",
    "all_costs = []\n",
    "axis= []\n",
    "epoch = 5\n",
    "right_predicted = 0\n",
    "for ep in range(0, epoch):\n",
    "    random.shuffle(our_train_set)\n",
    "    mini_batch_size = 50\n",
    "\n",
    "    batch_size = int(len(our_train_set)/mini_batch_size)\n",
    "    average_poach_cost = 0\n",
    "    for b in range(0, batch_size):  \n",
    "\n",
    "        dcost_dweights = [0, 0, 0]\n",
    "        dcost_dbiases = [0, 0, 0]\n",
    "        for n in range(b*mini_batch_size, b*mini_batch_size + mini_batch_size):\n",
    "            a = []\n",
    "            y = our_train_set[n][1]\n",
    "            z = []\n",
    "\n",
    "\n",
    "            # feed forward\n",
    "            a.append(np.array(our_train_set[n][0]))\n",
    "            for i in range(0, len(layers_size) - 1):\n",
    "\n",
    "                z_temp = (weights[i] @ a[i]) + biases[i]\n",
    "                a.append(np.array(activation(z_temp, activation_function_name)))\n",
    "                z.append(z_temp)\n",
    "\n",
    "\n",
    "            # backpropagation\n",
    "            da = []\n",
    "            for l in range(len(layers_size) - 1, 0, -1):\n",
    "                da_temp = []\n",
    "                xx = 0\n",
    "                row_w = []\n",
    "                if l == len(layers_size) - 1:\n",
    "                    cost = 2*(a[l]-y)\n",
    "                else:\n",
    "                    cost = da\n",
    "\n",
    "                grad_w = cost*activation_driv(z[l-1], activation_function_name)@ np.transpose(a[l-1])\n",
    "                grad_b = cost*activation_driv(z[l-1], activation_function_name)\n",
    "\n",
    "                dcost_dweights[l - 1] += grad_w\n",
    "                dcost_dbiases[l - 1] += grad_b\n",
    "\n",
    "                if l > 1:\n",
    "                    if l == len(layers_size) - 1:\n",
    "                        a_1 = 2*(a[l]-y)\n",
    "                    else:\n",
    "                        a_1 = da\n",
    "\n",
    "                    temp = np.transpose(weights[l-1]) @ (a_1*activation_driv(z[l-1], activation_function_name))\n",
    "\n",
    "                    da = []\n",
    "                    da = temp\n",
    "\n",
    "            # print(\"sum_dcost_dweights: \",sum_dcost_dweights)\n",
    "           \n",
    "            result = np.where(a[-1] == np.amax(a[-1]))\n",
    "            label = np.where(our_train_set[n][1] == np.amax(our_train_set[n][1]))\n",
    "            if label[0] == result[0]:\n",
    "                right_predicted = right_predicted + 1\n",
    "            average_poach_cost = average_poach_cost + sum(np.power(a[-1] - our_train_set[n][1], 2))\n",
    "\n",
    "\n",
    "        #update weights and biases\n",
    "        for i in range(0, len(layers_size) - 1):\n",
    "            weights[i] = weights[i] - (dcost_dweights[i] / mini_batch_size)\n",
    "            biases[i] = biases[i] - (dcost_dbiases[i] / mini_batch_size)\n",
    "            \n",
    "    all_costs.append(average_poach_cost/len(our_train_set))\n",
    "    axis.append(len(all_costs))\n",
    "\n",
    "\n",
    "print(\"**********\")\n",
    "print(\"epoch : \", epoch)\n",
    "print(\"minibatch size: \", mini_batch_size)\n",
    "print(\"**********\")\n",
    "print(\"right predicted:\",right_predicted, \", of: \", (len(our_train_set) * epoch))\n",
    "print(\"Accuracy: %\", (right_predicted/(len(our_train_set) * epoch))*100)\n",
    "print(\"**********\")\n",
    "\n",
    "plt.plot(axis, all_costs)\n",
    "plt.show()\n"
   ]
  },
  {
   "cell_type": "markdown",
   "id": "031a3c7c",
   "metadata": {},
   "source": [
    "# Step 5 - Testing our test dataset"
   ]
  },
  {
   "cell_type": "code",
   "execution_count": 260,
   "id": "7819ff7f",
   "metadata": {},
   "outputs": [],
   "source": [
    "#shifting the dataset images 4 pixles to right and puting 0 in those places\n",
    "def shift_img(our_dataset):\n",
    "    edited_test_set = []\n",
    "    edited_test_set = our_dataset\n",
    "    our_edited_test_set = []\n",
    "    for i in range (0, len(edited_test_set)):\n",
    "        temp = np.roll(edited_test_set[i][0].reshape((28,28)) , 4)\n",
    "        temp[: , 0 : 3] = 0\n",
    "        our_edited_test_set_temp = []\n",
    "        our_edited_test_set_temp.append(temp.reshape((784, 1)))\n",
    "        our_edited_test_set_temp.append(edited_test_set[i][1])\n",
    "        our_edited_test_set.append(our_edited_test_set_temp)\n",
    "        \n",
    "    #print a shifted image\n",
    "    show_image(our_dataset[0][0])\n",
    "    plt.show()\n",
    "    show_image(our_edited_test_set[0][0])\n",
    "    plt.show()\n",
    "        \n",
    "    return our_edited_test_set"
   ]
  },
  {
   "cell_type": "code",
   "execution_count": 37,
   "id": "5792bc21",
   "metadata": {
    "scrolled": true
   },
   "outputs": [
    {
     "name": "stdout",
     "output_type": "stream",
     "text": [
      "**********\n",
      "right predicted : 8955\n",
      "Accuracy: % 89.55\n",
      "**********\n"
     ]
    }
   ],
   "source": [
    "#*************************** test ******************************\n",
    "right_predicted = 0\n",
    "our_test_set = []\n",
    "\n",
    "our_test_set = test_set\n",
    "# our_test_set = shift_img(test_set)\n",
    "\n",
    "random.shuffle(our_test_set)\n",
    "mini_batch_size = 1000\n",
    "\n",
    "activation_function_name = \"sigmoid\"\n",
    "\n",
    "for n in range(0, len(test_set)):\n",
    "    w = []\n",
    "    b = []\n",
    "    a = []\n",
    "    y = our_test_set[n][1]\n",
    "    z = []\n",
    "\n",
    "    # feed forward\n",
    "    a.append(np.array(our_test_set[n][0]))\n",
    "    for i in range(0, len(layers_size) - 1):\n",
    "        z_temp = (weights[i] @ a[i]) + biases[i]\n",
    "        a.append(np.array(activation(z_temp, activation_function_name)))\n",
    "        z.append(z_temp)\n",
    "\n",
    "\n",
    "    result = np.where(a[-1] == np.amax(a[-1]))\n",
    "    # print(\"A: \", a[len(layers_size) - 1])\n",
    "    # print('List of Indices of maximum element :', result[0])\n",
    "    label = np.where(our_test_set[n][1] == np.amax(our_test_set[n][1]))\n",
    "    # print(label[0])\n",
    "    # print(label[0] == result[0])\n",
    "    if label[0] == result[0]:\n",
    "        right_predicted = right_predicted + 1\n",
    "\n",
    "            \n",
    "print(\"**********\")\n",
    "print(\"right predicted :\",right_predicted)\n",
    "print(\"Accuracy: %\", (right_predicted/(len(test_set)))*100)\n",
    "print(\"**********\")"
   ]
  },
  {
   "cell_type": "markdown",
   "id": "9cf745a0",
   "metadata": {},
   "source": [
    "# testing the shifted data set"
   ]
  },
  {
   "cell_type": "code",
   "execution_count": 261,
   "id": "3aad39fa",
   "metadata": {},
   "outputs": [
    {
     "data": {
      "image/png": "[encoded data removed]",
      "text/plain": [
       "<Figure size 432x288 with 1 Axes>"
      ]
     },
     "metadata": {
      "needs_background": "light"
     },
     "output_type": "display_data"
    },
    {
     "data": {
      "image/png": "[encoded data removed]",
      "text/plain": [
       "<Figure size 432x288 with 1 Axes>"
      ]
     },
     "metadata": {
      "needs_background": "light"
     },
     "output_type": "display_data"
    },
    {
     "name": "stdout",
     "output_type": "stream",
     "text": [
      "**********\n",
      "right predicted : 1923\n",
      "Accuracy: % 19.23\n",
      "**********\n"
     ]
    }
   ],
   "source": [
    "#*************************** test ******************************\n",
    "right_predicted = 0\n",
    "our_test_set = []\n",
    "\n",
    "# our_test_set = test_set\n",
    "our_test_set = shift_img(test_set)\n",
    "\n",
    "random.shuffle(our_test_set)\n",
    "mini_batch_size = 1000\n",
    "\n",
    "# activation_function_name = \"sigoid\"\n",
    "\n",
    "for n in range(0, len(test_set)):\n",
    "    w = []\n",
    "    b = []\n",
    "    a = []\n",
    "    y = our_test_set[n][1]\n",
    "    z = []\n",
    "\n",
    "    # feed forward\n",
    "    a.append(np.array(our_test_set[n][0]))\n",
    "    for i in range(0, len(layers_size) - 1):\n",
    "        z_temp = (weights[i] @ a[i]) + biases[i]\n",
    "        a.append(np.array(activation(z_temp, activation_function_name)))\n",
    "        z.append(z_temp)\n",
    "\n",
    "\n",
    "    result = np.where(a[-1] == np.amax(a[-1]))\n",
    "    # print(\"A: \", a[len(layers_size) - 1])\n",
    "    # print('List of Indices of maximum element :', result[0])\n",
    "    label = np.where(our_test_set[n][1] == np.amax(our_test_set[n][1]))\n",
    "    # print(label[0])\n",
    "    # print(label[0] == result[0])\n",
    "    if label[0] == result[0]:\n",
    "        right_predicted = right_predicted + 1\n",
    "\n",
    "            \n",
    "print(\"**********\")\n",
    "print(\"right predicted :\",right_predicted)\n",
    "print(\"Accuracy: %\", (right_predicted/(len(test_set)))*100)\n",
    "print(\"**********\")"
   ]
  },
  {
   "cell_type": "markdown",
   "id": "8ae32d42",
   "metadata": {},
   "source": [
    "As we see the accuracy was reduced considerably. The reason is obvious, because we created our matrices with the pixles and we trained our network on them, so our hyperparameters are depended on the locations. for handeling this problem using CNN networks is a good way."
   ]
  },
  {
   "cell_type": "markdown",
   "id": "c8795a0f",
   "metadata": {},
   "source": [
    "# Train data using tanh activation function"
   ]
  },
  {
   "cell_type": "code",
   "execution_count": 29,
   "id": "3049c1e8",
   "metadata": {},
   "outputs": [
    {
     "name": "stdout",
     "output_type": "stream",
     "text": [
      "**********\n",
      "epoch :  5\n",
      "minibatch size:  50\n",
      "**********\n",
      "right predicted: 184642 , of:  300000\n",
      "Accuracy: % 61.547333333333334\n",
      "**********\n"
     ]
    },
    {
     "data": {
      "image/png": "[encoded data removed]",
      "text/plain": [
       "<Figure size 432x288 with 1 Axes>"
      ]
     },
     "metadata": {
      "needs_background": "light"
     },
     "output_type": "display_data"
    },
    {
     "name": "stdout",
     "output_type": "stream",
     "text": [
      "Wall time: 1min 20s\n"
     ]
    }
   ],
   "source": [
    "%%time\n",
    "layers_size = [784, 16, 16, 10]\n",
    "\n",
    "weights = []\n",
    "biases = []\n",
    "activation_function_name = \"tanh\"\n",
    "# make weight matrix randomly and zero biases\n",
    "for i in range(0, len(layers_size) - 1):\n",
    "    weights.append(np.random.normal(size=(layers_size[i + 1], layers_size[i])))\n",
    "    biases.append(np.zeros((layers_size[i + 1], 1)))\n",
    "\n",
    "our_train_set = []\n",
    "our_train_set = train_set\n",
    "\n",
    "#*************************** training ******************************\n",
    "all_costs = []\n",
    "axis= []\n",
    "epoch = 5\n",
    "right_predicted = 0\n",
    "for ep in range(0, epoch):\n",
    "    random.shuffle(our_train_set)\n",
    "    mini_batch_size = 50\n",
    "\n",
    "    batch_size = int(len(our_train_set)/mini_batch_size)\n",
    "    average_poach_cost = 0\n",
    "    for b in range(0, batch_size):  \n",
    "\n",
    "        dcost_dweights = [0, 0, 0]\n",
    "        dcost_dbiases = [0, 0, 0]\n",
    "        for n in range(b*mini_batch_size, b*mini_batch_size + mini_batch_size):\n",
    "            a = []\n",
    "            y = our_train_set[n][1]\n",
    "            z = []\n",
    "\n",
    "\n",
    "            # feed forward\n",
    "            a.append(np.array(our_train_set[n][0]))\n",
    "            for i in range(0, len(layers_size) - 1):\n",
    "\n",
    "                z_temp = (weights[i] @ a[i]) + biases[i]\n",
    "                a.append(np.array(activation(z_temp, activation_function_name)))\n",
    "                z.append(z_temp)\n",
    "\n",
    "\n",
    "            # backpropagation\n",
    "            da = []\n",
    "            for l in range(len(layers_size) - 1, 0, -1):\n",
    "                da_temp = []\n",
    "                xx = 0\n",
    "                row_w = []\n",
    "                if l == len(layers_size) - 1:\n",
    "                    cost = 2*(a[l]-y)\n",
    "                else:\n",
    "                    cost = da\n",
    "\n",
    "                grad_w = cost*activation_driv(z[l-1], activation_function_name)@ np.transpose(a[l-1])\n",
    "                grad_b = cost*activation_driv(z[l-1], activation_function_name)\n",
    "\n",
    "                dcost_dweights[l - 1] += grad_w\n",
    "                dcost_dbiases[l - 1] += grad_b\n",
    "\n",
    "                if l > 1:\n",
    "                    if l == len(layers_size) - 1:\n",
    "                        a_1 = 2*(a[l]-y)\n",
    "                    else:\n",
    "                        a_1 = da\n",
    "\n",
    "                    temp = np.transpose(weights[l-1]) @ (a_1*activation_driv(z[l-1], activation_function_name))\n",
    "\n",
    "                    da = []\n",
    "                    da = temp\n",
    "\n",
    "            # print(\"sum_dcost_dweights: \",sum_dcost_dweights)\n",
    "           \n",
    "            result = np.where(a[-1] == np.amax(a[-1]))\n",
    "            label = np.where(our_train_set[n][1] == np.amax(our_train_set[n][1]))\n",
    "            if label[0] == result[0]:\n",
    "                right_predicted = right_predicted + 1\n",
    "            average_poach_cost = average_poach_cost + sum(np.power(a[-1] - our_train_set[n][1], 2))\n",
    "\n",
    "\n",
    "        #update weights and biases\n",
    "        for i in range(0, len(layers_size) - 1):\n",
    "            weights[i] = weights[i] - (dcost_dweights[i] / mini_batch_size)\n",
    "            biases[i] = biases[i] - (dcost_dbiases[i] / mini_batch_size)\n",
    "            \n",
    "    all_costs.append(average_poach_cost/len(our_train_set))\n",
    "    axis.append(len(all_costs))\n",
    "\n",
    "\n",
    "print(\"**********\")\n",
    "print(\"epoch : \", epoch)\n",
    "print(\"minibatch size: \", mini_batch_size)\n",
    "print(\"**********\")\n",
    "print(\"right predicted:\",right_predicted, \", of: \", (len(our_train_set) * epoch))\n",
    "print(\"Accuracy: %\", (right_predicted/(len(our_train_set) * epoch))*100)\n",
    "print(\"**********\")\n",
    "\n",
    "plt.plot(axis, all_costs)\n",
    "plt.show()\n"
   ]
  },
  {
   "cell_type": "markdown",
   "id": "7b4bbae8",
   "metadata": {},
   "source": [
    "as we see training with tanh is faster that sigmoid"
   ]
  },
  {
   "cell_type": "markdown",
   "id": "64a002fd",
   "metadata": {},
   "source": [
    "# Testing our test dataset using tanh activation function"
   ]
  },
  {
   "cell_type": "code",
   "execution_count": 34,
   "id": "b0271782",
   "metadata": {},
   "outputs": [
    {
     "name": "stdout",
     "output_type": "stream",
     "text": [
      "**********\n",
      "right predicted : 8177\n",
      "Accuracy: % 81.77\n",
      "**********\n"
     ]
    }
   ],
   "source": [
    "#*************************** test ******************************\n",
    "right_predicted = 0\n",
    "our_test_set = []\n",
    "\n",
    "our_test_set = test_set\n",
    "# our_test_set = shift_img(test_set)\n",
    "\n",
    "random.shuffle(our_test_set)\n",
    "mini_batch_size = 1000\n",
    "\n",
    "activation_function_name = \"tanh\"\n",
    "\n",
    "for n in range(0, len(test_set)):\n",
    "    w = []\n",
    "    b = []\n",
    "    a = []\n",
    "    y = our_test_set[n][1]\n",
    "    z = []\n",
    "\n",
    "    # feed forward\n",
    "    a.append(np.array(our_test_set[n][0]))\n",
    "    for i in range(0, len(layers_size) - 1):\n",
    "        z_temp = (weights[i] @ a[i]) + biases[i]\n",
    "        a.append(np.array(activation(z_temp, activation_function_name)))\n",
    "        z.append(z_temp)\n",
    "\n",
    "\n",
    "    result = np.where(a[-1] == np.amax(a[-1]))\n",
    "    # print(\"A: \", a[len(layers_size) - 1])\n",
    "    # print('List of Indices of maximum element :', result[0])\n",
    "    label = np.where(our_test_set[n][1] == np.amax(our_test_set[n][1]))\n",
    "    # print(label[0])\n",
    "    # print(label[0] == result[0])\n",
    "    if label[0] == result[0]:\n",
    "        right_predicted = right_predicted + 1\n",
    "\n",
    "            \n",
    "print(\"**********\")\n",
    "print(\"right predicted :\",right_predicted)\n",
    "print(\"Accuracy: %\", (right_predicted/(len(test_set)))*100)\n",
    "print(\"**********\")"
   ]
  },
  {
   "cell_type": "markdown",
   "id": "5fb6076d",
   "metadata": {},
   "source": [
    "As we see the accuracy when we are using tanh activation function is lower than when we used sigmoid"
   ]
  },
  {
   "cell_type": "code",
   "execution_count": null,
   "id": "fc8186ce",
   "metadata": {},
   "outputs": [],
   "source": []
  }
 ],
 "metadata": {
  "kernelspec": {
   "display_name": "Python 3",
   "language": "python",
   "name": "python3"
  },
  "language_info": {
   "codemirror_mode": {
    "name": "ipython",
    "version": 3
   },
   "file_extension": ".py",
   "mimetype": "text/x-python",
   "name": "python",
   "nbconvert_exporter": "python",
   "pygments_lexer": "ipython3",
   "version": "3.8.3"
  }
 },
 "nbformat": 4,
 "nbformat_minor": 5
}
